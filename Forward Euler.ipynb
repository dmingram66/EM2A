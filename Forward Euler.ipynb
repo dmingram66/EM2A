{
 "cells": [
  {
   "cell_type": "markdown",
   "metadata": {},
   "source": [
    "# Euler's method \n",
    "\n",
    "This notebook implements Euler's method (a.k.a forward Euler) for the integration of a  first order differential equation. \n",
    "\n",
    "We will be using <code>numpy</code>'s  matrix and vector capabilities and <code>math</code> to provide some trigonometric functions.\n",
    "\n",
    "This workbook solves the equation\n",
    "$$\n",
    "\\frac{dx}{dt}=cos x,\\ x(0)=1\n",
    "$$\n",
    "\n",
    "The fist step is to define a function which calculates the RHS of the ODE."
   ]
  },
  {
   "cell_type": "code",
   "execution_count": 1,
   "metadata": {},
   "outputs": [],
   "source": [
    "import numpy as np\n",
    "import math\n",
    "\n",
    "# function defining ODE\n",
    "def f(t,x):\n",
    "    return math.cos(t)"
   ]
  },
  {
   "cell_type": "markdown",
   "metadata": {},
   "source": [
    "Now we implement a generalised forward euler solver, this solves\n",
    "$$ \\frac{dx}{dt}=f(x,t),\\ x(0)=x0 $$\n",
    "by approximating the derivative using\n",
    "$$x_{n+1)=x_n+\\Delta t\\cdot f(x,t)$$\n",
    "The method is first order accurate in time, so a very small value of $\\Delta t$ should be used to obtain good results."
   ]
  },
  {
   "cell_type": "code",
   "execution_count": 2,
   "metadata": {},
   "outputs": [],
   "source": [
    "def FwdEuler(t_stop,dt,x0,fun):\n",
    "    \"\"\" General Forward Euler integrator, storing the time step and\n",
    "    the results arrays, t and x.  The integtor will call the function,\n",
    "    fun, and run at a time step of delta_t until t=t_stop.\n",
    "    \"\"\"\n",
    "\n",
    "    # how many points\n",
    "    N_t = int((float(t_stop)//dt))\n",
    "    \n",
    "    # initialise the storage array for the results\n",
    "    x=np.zeros(N_t)\n",
    "    t=np.linspace(0.0,t_stop,N_t)\n",
    "    \n",
    "    # iterations count\n",
    "    for i in range(N_t-1):\n",
    "        x[i+1]=x[i]+dt*fun(t[i],x[i]) #forward Euler\n",
    "    return t,x\n"
   ]
  },
  {
   "cell_type": "markdown",
   "metadata": {},
   "source": [
    "Now we are going to solve the equation for the first six seconds, with $\\Delta t=0.1$."
   ]
  },
  {
   "cell_type": "code",
   "execution_count": 3,
   "metadata": {},
   "outputs": [],
   "source": [
    "# Call the integrator\n",
    "t,x=FwdEuler(6.0,0.01,1.0,f)\n"
   ]
  },
  {
   "cell_type": "markdown",
   "metadata": {},
   "source": [
    "Now we are going to plot the result"
   ]
  },
  {
   "cell_type": "code",
   "execution_count": 5,
   "metadata": {},
   "outputs": [
    {
     "data": {
      "text/plain": [
       "Text(0, 0.5, 'x(t)')"
      ]
     },
     "execution_count": 5,
     "metadata": {},
     "output_type": "execute_result"
    },
    {
     "data": {
      "image/png": "[encoded data removed]",
      "text/plain": [
       "<Figure size 432x288 with 1 Axes>"
      ]
     },
     "metadata": {
      "needs_background": "light"
     },
     "output_type": "display_data"
    }
   ],
   "source": [
    "import matplotlib.pyplot as plt\n",
    "\n",
    "# how many points?\n",
    "N_t=len(x)\n",
    "\n",
    "# dots or a continuous line?\n",
    "numerical_sol = 'bo' if N_t < 70 else 'b-'\n",
    "\n",
    "# plot the solution\n",
    "plt.plot(t, x, numerical_sol)\n",
    "plt.legend(['Fwd Euler'], loc='upper right')\n",
    "plt.xlabel('t'); plt.ylabel('x(t)')\n"
   ]
  },
  {
   "cell_type": "code",
   "execution_count": null,
   "metadata": {},
   "outputs": [],
   "source": []
  }
 ],
 "metadata": {
  "kernelspec": {
   "display_name": "Python 3",
   "language": "python",
   "name": "python3"
  },
  "language_info": {
   "codemirror_mode": {
    "name": "ipython",
    "version": 3
   },
   "file_extension": ".py",
   "mimetype": "text/x-python",
   "name": "python",
   "nbconvert_exporter": "python",
   "pygments_lexer": "ipython3",
   "version": "3.8.3"
  }
 },
 "nbformat": 4,
 "nbformat_minor": 4
}
