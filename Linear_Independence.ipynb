{
 "cells": [
  {
   "cell_type": "markdown",
   "metadata": {},
   "source": [
    "# Linear Independence of a system of equations\n",
    "\n",
    "Whether a system of equations is linearly dependent or linearly independent can be determined by finding the determinant of the coefficient matrix.  This is fairly straight forward to do for small systems, 2 equations with 2 unknowns and 3 equations with 3 unknowns.  But for larger systems it is better to use Python.\n",
    "\n",
    "This workbook uses Python to determine if $1+t$, $1-t$, and $t^2-t$ are linearly independent or not.\n",
    "\n",
    "We begin by equating coefficients\n",
    "\n",
    "|Equation| 1 | t | $t^2$ |\n",
    "|--------|----|----|----|\n",
    "|$1+t$|1|1|0|\n",
    "|$1-t$|1|-1|0|\n",
    "|$t^2-t$|0|-1|1|\n",
    "\n",
    "Then we form the coefficient matrix and find the determinant, if the determinant is zero the system is linearly dependent."
   ]
  },
  {
   "cell_type": "code",
   "execution_count": 1,
   "metadata": {},
   "outputs": [
    {
     "name": "stdout",
     "output_type": "stream",
     "text": [
      "Equations are linearly independent, |A|= -2.0\n"
     ]
    }
   ],
   "source": [
    "import numpy as np\n",
    "\n",
    "# build the coeficient matrix\n",
    "A = np.array([[1,1,0], \n",
    "              [1,-1,0], \n",
    "              [0,-1,1]])\n",
    "\n",
    "# calculate the determinant\n",
    "Det=np.linalg.det(A)\n",
    "\n",
    "# check for linear dependence\n",
    "if (Det==0):\n",
    "    print('Equations are linearly dependent.')\n",
    "else:\n",
    "    print('Equations are linearly independent, |A|=',Det)"
   ]
  },
  {
   "cell_type": "code",
   "execution_count": null,
   "metadata": {},
   "outputs": [],
   "source": []
  }
 ],
 "metadata": {
  "kernelspec": {
   "display_name": "Python 3",
   "language": "python",
   "name": "python3"
  },
  "language_info": {
   "codemirror_mode": {
    "name": "ipython",
    "version": 3
   },
   "file_extension": ".py",
   "mimetype": "text/x-python",
   "name": "python",
   "nbconvert_exporter": "python",
   "pygments_lexer": "ipython3",
   "version": "3.7.3"
  }
 },
 "nbformat": 4,
 "nbformat_minor": 4
}
