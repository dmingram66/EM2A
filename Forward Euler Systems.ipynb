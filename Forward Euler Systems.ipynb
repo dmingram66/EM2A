{
 "cells": [
  {
   "cell_type": "markdown",
   "metadata": {},
   "source": [
    "# Euler's method for a system of equations\n",
    "\n",
    "This notebook implements Euler's method (a.k.a forward Euler) for the integration of a system of first order differential equations. \n",
    "\n",
    "This workbook solves the equation\n",
    "$$\n",
    "\\frac{dx}{dt}=\\vec{F}(\\vec{x},t),\\ \\vec{x}(0)=\\vec{x0}\n",
    "$$\n",
    "\n",
    "The fist step is to define a function which calculates the RHS of the ODE.\n",
    "\n",
    "This time we're going to split up x into its components to make <code>f(t,x)</code> a bit more readable."
   ]
  },
  {
   "cell_type": "code",
   "execution_count": 1,
   "metadata": {},
   "outputs": [],
   "source": [
    "import numpy as np\n",
    "import math\n",
    "\n",
    "def f(t,x):\n",
    "    X, Y = x # split the array\n",
    "    return [X-Y*Y+X*t, X*X+X*Y-t]\n"
   ]
  },
  {
   "cell_type": "markdown",
   "metadata": {},
   "source": [
    "Now we implement a generalised forward euler solver, there is a little Python magic with the \n",
    "\n",
    "<code>fun_ = lambda t,x: np.asarray(fun(t,x))</code>\n",
    "\n",
    "statement, this ensures we know the <code>fun(t,x)</code> returns a vector."
   ]
  },
  {
   "cell_type": "code",
   "execution_count": 2,
   "metadata": {},
   "outputs": [],
   "source": [
    "def FwdEuler(t_stop,dt,x0,fun):\n",
    "    \"\"\" General Forward Euler integrator, storing the time step and\n",
    "    the results arrays, t and x.  The integtor will call the function,\n",
    "    fun, and run at a time step of delta_t until t=t_stop.\n",
    "    \"\"\"\n",
    "\n",
    "    # ensure fun returns an array\n",
    "    fun_ = lambda t,x: np.asarray(fun(t,x))\n",
    "\n",
    "    # how many points\n",
    "    N_t = int((float(t_stop)//dt))\n",
    "    N_eq = x0.shape[0]\n",
    "    # initialise storage for array for the results\n",
    "    x=np.zeros((N_t,N_eq))\n",
    "    t=np.linspace(0.0,t_stop,N_t)\n",
    "\n",
    "    x[0]=x0 # initial conditions\n",
    "\n",
    "    # iterations count\n",
    "    for i in range(N_t-1):\n",
    "        x[i+1]=x[i]+dt*fun_(t[i],x[i]) #forward Euler\n",
    "    return t,x\n",
    "\n"
   ]
  },
  {
   "cell_type": "markdown",
   "metadata": {},
   "source": [
    "Now we are going to solve the equation for the first 1.5 seconds, with $\\Delta t=0.01$.  We are passing the function <code>f</code> as an argument."
   ]
  },
  {
   "cell_type": "code",
   "execution_count": 3,
   "metadata": {},
   "outputs": [],
   "source": [
    "#Set the initial conditions\n",
    "x0=np.array([0.5,1.2])\n",
    "\n",
    "#Call the integrator\n",
    "t,x=FwdEuler(1.5,0.01,x0,f)\n"
   ]
  },
  {
   "cell_type": "markdown",
   "metadata": {},
   "source": [
    "Now we are going to plot the result"
   ]
  },
  {
   "cell_type": "code",
   "execution_count": 4,
   "metadata": {},
   "outputs": [
    {
     "data": {
      "text/plain": [
       "Text(0.5, 0, 't')"
      ]
     },
     "execution_count": 4,
     "metadata": {},
     "output_type": "execute_result"
    },
    {
     "data": {
      "image/png": "[encoded data removed]",
      "text/plain": [
       "<Figure size 432x288 with 1 Axes>"
      ]
     },
     "metadata": {
      "needs_background": "light"
     },
     "output_type": "display_data"
    }
   ],
   "source": [
    "import matplotlib.pyplot as plt\n",
    "\n",
    "# plot one line for each variable\n",
    "for n in range(x0.shape[0]):\n",
    "    plt.plot(t, x[:,n])\n",
    "    \n",
    "plt.legend(('X','Y'), loc='upper left')\n",
    "plt.xlabel('t')\n"
   ]
  },
  {
   "cell_type": "code",
   "execution_count": null,
   "metadata": {},
   "outputs": [],
   "source": []
  }
 ],
 "metadata": {
  "kernelspec": {
   "display_name": "Python 3",
   "language": "python",
   "name": "python3"
  },
  "language_info": {
   "codemirror_mode": {
    "name": "ipython",
    "version": 3
   },
   "file_extension": ".py",
   "mimetype": "text/x-python",
   "name": "python",
   "nbconvert_exporter": "python",
   "pygments_lexer": "ipython3",
   "version": "3.8.3"
  }
 },
 "nbformat": 4,
 "nbformat_minor": 4
}
