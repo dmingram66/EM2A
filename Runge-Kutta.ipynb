{
 "cells": [
  {
   "cell_type": "markdown",
   "metadata": {},
   "source": [
    "# Solve and ODE using the Classical 4th order, 5 Stage, Runge-Kutta method\n",
    "\n",
    "This is best done using the <code>scipy.integrate</code> library which provides *well tested* and *efficient* implementations of a range of ODE integrators.\n",
    "\n",
    "Here we are going to use the classical 4th order, 5 Stage, Runge-Kutta solver.  This is a good workhorse for many engineering applications.  It uses a variable time step to control the error whilst maintaining computational efficiency.  It is worth mentioning here that this is a 4th order method becuase the error, $\\xi$ at every integration step is proportional to $\\Delta t^4$.  Forward Euler in contrast is only a *first order* method (ie. $\\xi\\propto\\Delta t$).\n",
    "\n",
    "We are going to solve the 3rd order different equation\n",
    "$$\n",
    "frac{d^3x}{dt^3}+xt\\frac{d^2x}{dt^2}+t\\frac{dx}{dt}-t^2x=0\n",
    "$$\n",
    "\n",
    "With the initial conditions$ x(0)=1,\\,\\dot{x}(0)=0.5$ and $\\ddot{x}(0)=-0.2$.\n",
    "\n",
    "As previously the first step is to define the RHS function."
   ]
  },
  {
   "cell_type": "code",
   "execution_count": 2,
   "metadata": {},
   "outputs": [],
   "source": [
    "from scipy.integrate import solve_ivp\n",
    "import numpy as np\n",
    "\n",
    "# function defining ODE\n",
    "def f(t,x):\n",
    "    X, Y, Z = x # split the array\n",
    "    return [Y, Z, -t*X*Z-t*Y+t*t*X]\n"
   ]
  },
  {
   "cell_type": "markdown",
   "metadata": {},
   "source": [
    "Now we call the integrator"
   ]
  },
  {
   "cell_type": "code",
   "execution_count": 3,
   "metadata": {},
   "outputs": [],
   "source": [
    "sol = solve_ivp(f,  # function\n",
    "                [0.0,2.5], # t_start ad t_stop\n",
    "                [1.0,0.5,-0.2], # initial conditions\n",
    "                method='RK45', # choose method\n",
    "                dense_output=True) # save output\n"
   ]
  },
  {
   "cell_type": "markdown",
   "metadata": {},
   "source": [
    "Plotting the results is a little more complex as the data structure containing the results needs interpolating onto a set of discrete points as the time step is varying. \n",
    "\n",
    "The first step is to define a set of putput points, and then do the interpolation"
   ]
  },
  {
   "cell_type": "code",
   "execution_count": 4,
   "metadata": {},
   "outputs": [],
   "source": [
    "# set the times for output\n",
    "t=np.linspace(0,2.5,200)\n",
    "z=sol.sol(t) # output points\n"
   ]
  },
  {
   "cell_type": "markdown",
   "metadata": {},
   "source": [
    "Now we cann plot the results"
   ]
  },
  {
   "cell_type": "code",
   "execution_count": 5,
   "metadata": {},
   "outputs": [
    {
     "data": {
      "image/png": "[encoded data removed]",
      "text/plain": [
       "<Figure size 432x288 with 1 Axes>"
      ]
     },
     "metadata": {
      "needs_background": "light"
     },
     "output_type": "display_data"
    }
   ],
   "source": [
    "import matplotlib.pyplot as plt\n",
    "plt.plot(t, z.T)\n",
    "plt.legend(('x',\"x'\",'x\"'), loc='upper left')\n",
    "plt.xlabel('t [s]'); plt.ylabel('x');\n"
   ]
  },
  {
   "cell_type": "code",
   "execution_count": null,
   "metadata": {},
   "outputs": [],
   "source": []
  }
 ],
 "metadata": {
  "kernelspec": {
   "display_name": "Python 3",
   "language": "python",
   "name": "python3"
  },
  "language_info": {
   "codemirror_mode": {
    "name": "ipython",
    "version": 3
   },
   "file_extension": ".py",
   "mimetype": "text/x-python",
   "name": "python",
   "nbconvert_exporter": "python",
   "pygments_lexer": "ipython3",
   "version": "3.8.3"
  }
 },
 "nbformat": 4,
 "nbformat_minor": 4
}
